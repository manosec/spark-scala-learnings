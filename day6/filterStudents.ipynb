{
 "cells": [
  {
   "cell_type": "code",
   "execution_count": 11,
   "id": "634d30ec-ee4a-42b3-8d07-6a3c23481710",
   "metadata": {},
   "outputs": [
    {
     "ename": "Syntax Error.",
     "evalue": "",
     "output_type": "error",
     "traceback": []
    }
   ],
   "source": [
    "// val records = Array(\n",
    "//   (1, \"Alice\", 85), (2, \"Bob\", 92), (3, \"Charlie\", 78), (4, \"David\", 66), (5, \"Eve\", 90),\n",
    "//   (6, \"Frank\", 73), (7, \"Grace\", 88), (8, \"Hannah\", 91), (9, \"Isaac\", 84), (10, \"Judy\", 76),\n",
    "//   (11, \"Kevin\", 82), (12, \"Laura\", 79), (13, \"Mike\", 95), (14, \"Nina\", 70), (15, \"Oscar\", 89),\n",
    "//   (16, \"Paul\", 80), (17, \"Quinn\", 77), (18, \"Rachel\", 93), (19, \"Sam\", 85), (20, \"Tina\", 74),\n",
    "//   (21, \"Uma\", 69), (22, \"Victor\", 96), (23, \"Wendy\", 87), (24, \"Xander\", 68), (25, \"Yara\", 94),\n",
    "//   (26, \"Zane\", 81), (27, \"Oliver\", 78), (28, \"Sophia\", 85), (29, \"Liam\", 90), (30, \"Mia\", 83),\n",
    "//   (31, \"Noah\", 88), (32, \"Emma\", 75), (33, \"Ava\", 92), (34, \"William\", 86), (35, \"James\", 91),\n",
    "//   (36, \"Lucas\", 72), (37, \"Amelia\", 79), (38, \"Ella\", 89), (39, \"Mason\", 76), (40, \"Logan\", 95),\n",
    "//   (41, \"Ethan\", 84), (42, \"Charlotte\", 82), (43, \"Benjamin\", 80), (44, \"Alexander\", 71),\n",
    "//   (45, \"Michael\", 88), (46, \"Isabella\", 73), (47, \"Daniel\", 86), (48, \"Elijah\", 81),\n",
    "//   (49, \"Matthew\", 79), (50, \"Jackson\", 92)\n",
    "// )"
   ]
  },
  {
   "cell_type": "code",
   "execution_count": 15,
   "id": "04e91f8c-f73f-4dcf-8367-5202ef94a8ba",
   "metadata": {},
   "outputs": [
    {
     "ename": "Unknown Error",
     "evalue": "<console>:46: error: value _1 is not a member of Student\n         arr.map(t => Student(t._1, t._2, t._3)).toList\n                                ^\n<console>:46: error: value _2 is not a member of Student\n         arr.map(t => Student(t._1, t._2, t._3)).toList\n                                      ^\n<console>:46: error: value _3 is not a member of Student\n         arr.map(t => Student(t._1, t._2, t._3)).toList\n                                            ^\n",
     "output_type": "error",
     "traceback": []
    }
   ],
   "source": [
    "// Define the Student case class\n",
    "case class Student(sno: Int, name: String, score: Int)\n",
    "\n",
    "// Sample records as an array of tuples\n",
    "val records = Array(\n",
    "  (1, \"Alice\", 85), (2, \"Bob\", 92), (3, \"Charlie\", 78), (4, \"David\", 66), (5, \"Eve\", 90),\n",
    "  (6, \"Frank\", 73), (7, \"Grace\", 88), (8, \"Hannah\", 91), (9, \"Isaac\", 84), (10, \"Judy\", 76),\n",
    "  (11, \"Kevin\", 82), (12, \"Laura\", 79), (13, \"Mike\", 95), (14, \"Nina\", 70), (15, \"Oscar\", 89),\n",
    "  (16, \"Paul\", 80), (17, \"Quinn\", 77), (18, \"Rachel\", 93), (19, \"Sam\", 85), (20, \"Tina\", 74),\n",
    "  (21, \"Uma\", 69), (22, \"Victor\", 96), (23, \"Wendy\", 87), (24, \"Xander\", 68), (25, \"Yara\", 94),\n",
    "  (26, \"Zane\", 81), (27, \"Oliver\", 78), (28, \"Sophia\", 85), (29, \"Liam\", 90), (30, \"Mia\", 83),\n",
    "  (31, \"Noah\", 88), (32, \"Emma\", 75), (33, \"Ava\", 92), (34, \"William\", 86), (35, \"James\", 91),\n",
    "  (36, \"Lucas\", 72), (37, \"Amelia\", 79), (38, \"Ella\", 89), (39, \"Mason\", 76), (40, \"Logan\", 95),\n",
    "  (41, \"Ethan\", 84), (42, \"Charlotte\", 82), (43, \"Benjamin\", 80), (44, \"Alexander\", 71),\n",
    "  (45, \"Michael\", 88), (46, \"Isabella\", 73), (47, \"Daniel\", 86), (48, \"Elijah\", 81),\n",
    "  (49, \"Matthew\", 79), (50, \"Jackson\", 92)\n",
    ")\n",
    "\n",
    "// Explicit conversion function from Array[(Int, String, Int)] to List[Student]\n",
    "implicit def arrayToList(arr: Array[(Int, String, Int)]): List[Student] = {\n",
    "  arr.map(t => Student(t._1, t._2, t._3)).toList\n",
    "}\n",
    "\n",
    "// Define filterStudents function\n",
    "def filterStudents(x: Student => Boolean)(students: List[Student]): List[Student] = {\n",
    "  students.filter(x)\n",
    "}\n",
    "\n",
    "// Explicitly call the implicit conversion and filter students\n",
    "val studentList: List[Student] = arrayToList(records) // Manually calling the implicit conversion\n",
    "\n",
    "// Now call the filterStudents function\n",
    "val filteredStudents = filterStudents((student: Student) => student.score >= 85)(studentList)\n",
    "println(filteredStudents)\n"
   ]
  },
  {
   "cell_type": "code",
   "execution_count": 17,
   "id": "df751b39-abcb-4276-aeb5-49b94ac7112e",
   "metadata": {},
   "outputs": [
    {
     "ename": "Unknown Error",
     "evalue": "<console>:24: error: not found: value studentList\n       studentList\n       ^\n",
     "output_type": "error",
     "traceback": []
    }
   ],
   "source": [
    "studentList"
   ]
  },
  {
   "cell_type": "code",
   "execution_count": null,
   "id": "b6803b1a-7022-4e7c-8a34-3eeab0554204",
   "metadata": {},
   "outputs": [],
   "source": []
  }
 ],
 "metadata": {
  "kernelspec": {
   "display_name": "Apache Toree - Scala",
   "language": "scala",
   "name": "apache_toree_scala"
  },
  "language_info": {
   "codemirror_mode": "text/x-scala",
   "file_extension": ".scala",
   "mimetype": "text/x-scala",
   "name": "scala",
   "pygments_lexer": "scala",
   "version": "2.12.15"
  }
 },
 "nbformat": 4,
 "nbformat_minor": 5
}
