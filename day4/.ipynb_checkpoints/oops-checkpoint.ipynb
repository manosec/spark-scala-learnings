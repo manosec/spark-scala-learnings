{
 "cells": [
  {
   "cell_type": "markdown",
   "id": "8f08f32a-950a-495a-aba7-5bab24122979",
   "metadata": {},
   "source": [
    "#### Class, Objects and Constructor "
   ]
  },
  {
   "cell_type": "code",
   "execution_count": 5,
   "id": "c56dde4f-5e05-463c-a0c6-1a788ee81207",
   "metadata": {},
   "outputs": [
    {
     "name": "stdout",
     "output_type": "stream",
     "text": [
      "Name: Alice, Age: 25\n",
      "Name: Bob, Age: 0\n"
     ]
    },
    {
     "data": {
      "text/plain": [
       "defined class Person\n",
       "person1 = Person@1ee621d\n",
       "person2 = Person@34c5f62f\n"
      ]
     },
     "metadata": {},
     "output_type": "display_data",
     "source": "user"
    },
    {
     "data": {
      "text/plain": [
       "Person@34c5f62f"
      ]
     },
     "execution_count": 5,
     "metadata": {},
     "output_type": "execute_result"
    }
   ],
   "source": [
    "// Class definition with constructor\n",
    "class Person(val name: String, var age: Int) {\n",
    "                                               \n",
    "  def this(name: String) = this(name, 0) // Auxiliary constructor\n",
    "\n",
    "  def display(): Unit = {\n",
    "    println(s\"Name: $name, Age: $age\")\n",
    "  }\n",
    "}\n",
    "\n",
    "// Object creation and operations\n",
    "val person1 = new Person(\"Alice\", 25)\n",
    "val person2 = new Person(\"Bob\")\n",
    "person1.display()\n",
    "person2.display()\n"
   ]
  },
  {
   "cell_type": "markdown",
   "id": "e257c0cb-3ac3-4600-bf06-aef961a8f701",
   "metadata": {},
   "source": [
    "#### Abstraction class and access specifiers"
   ]
  },
  {
   "cell_type": "code",
   "execution_count": 8,
   "id": "953633b0-ae63-4cc0-9146-ec57e56db32e",
   "metadata": {},
   "outputs": [
    {
     "ename": "Unknown Error",
     "evalue": "<console>:54: error: variable secret in class PrivateExample cannot be accessed in PrivateExample\n       println(example.secret) // This will cause an error\n                       ^\n",
     "output_type": "error",
     "traceback": []
    }
   ],
   "source": [
    "// Abstract class\n",
    "abstract class Animal {\n",
    "  def sound(): String // Abstract method\n",
    "  def description: String = \"I am an animal.\" // Concrete method\n",
    "}\n",
    "\n",
    "// Class extending the abstract class\n",
    "class Dog extends Animal {\n",
    "  override def sound(): String = \"Woof\"\n",
    "}\n",
    "\n",
    "// Test Access Specifiers\n",
    "class PrivateExample {\n",
    "  private var secret = \"Hidden value\"\n",
    "  def revealSecret(): String = secret\n",
    "}\n",
    "\n",
    "// Test Code\n",
    "val dog = new Dog\n",
    "println(dog.sound())\n",
    "println(dog.description)\n",
    "\n",
    "val example = new PrivateExample\n",
    "println(example.revealSecret())\n",
    "println(example.secret) // This will cause an error\n"
   ]
  },
  {
   "cell_type": "markdown",
   "id": "6f0be1c7-7e3b-48bb-af14-5ceaa93eda83",
   "metadata": {},
   "source": [
    "#### Polymorphism, overloading and overriding"
   ]
  },
  {
   "cell_type": "code",
   "execution_count": 10,
   "id": "877326c5-98c4-4106-a101-b0e4a9cc3930",
   "metadata": {},
   "outputs": [
    {
     "name": "stdout",
     "output_type": "stream",
     "text": [
      "5\n",
      "9\n",
      "A car can go up to 200 km/h.\n"
     ]
    },
    {
     "data": {
      "text/plain": [
       "defined class Calculator\n",
       "defined class Vehicle\n",
       "defined class Car\n",
       "calc = Calculator@35a0859b\n",
       "car = Car@38af45cb\n"
      ]
     },
     "metadata": {},
     "output_type": "display_data",
     "source": "user"
    },
    {
     "data": {
      "text/plain": [
       "Car@38af45cb"
      ]
     },
     "execution_count": 10,
     "metadata": {},
     "output_type": "execute_result"
    }
   ],
   "source": [
    "// Overloading Example\n",
    "class Calculator {\n",
    "  def add(a: Int, b: Int): Int = a + b\n",
    "  def add(a: Int, b: Int, c: Int): Int = a + b + c\n",
    "}\n",
    "\n",
    "// Overriding Example\n",
    "\n",
    "class Vehicle {\n",
    "  def speed(): String = \"A vehicle can have varying speeds.\"\n",
    "}\n",
    "\n",
    "class Car extends Vehicle {\n",
    "  override def speed(): String = \"A car can go up to 200 km/h.\"\n",
    "}\n",
    "\n",
    "// Test Code\n",
    "val calc = new Calculator\n",
    "println(calc.add(2, 3))\n",
    "println(calc.add(2, 3, 4))\n",
    "\n",
    "val car = new Car\n",
    "println(car.speed())\n"
   ]
  },
  {
   "cell_type": "markdown",
   "id": "3f8b576d-9e4e-4afb-81ab-e6fdb8f851c0",
   "metadata": {},
   "source": [
    "#### Inheritance and associated concepts"
   ]
  },
  {
   "cell_type": "code",
   "execution_count": 11,
   "id": "46e5b021-fa7b-4ad6-b2f5-cd84de8e7662",
   "metadata": {},
   "outputs": [
    {
     "name": "stdout",
     "output_type": "stream",
     "text": [
      "Circle area: 78.54\n",
      "Rectangle area: 28.00\n"
     ]
    },
    {
     "data": {
      "text/plain": [
       "defined class Shape\n",
       "defined class Circle\n",
       "defined class Rectangle\n",
       "circle = Circle@7e6eccdb\n",
       "rectangle = Rectangle@194060c0\n"
      ]
     },
     "metadata": {},
     "output_type": "display_data",
     "source": "user"
    },
    {
     "data": {
      "text/plain": [
       "Rectangle@194060c0"
      ]
     },
     "execution_count": 11,
     "metadata": {},
     "output_type": "execute_result"
    }
   ],
   "source": [
    "// Abstract class with inheritance\n",
    "abstract class Shape {\n",
    "  def area: Double\n",
    "}\n",
    "\n",
    "class Circle(val radius: Double) extends Shape {\n",
    "  override def area: Double = Math.PI * radius * radius\n",
    "}\n",
    "\n",
    "class Rectangle(val width: Double, val height: Double) extends Shape {\n",
    "  override def area: Double = width * height\n",
    "}\n",
    "\n",
    "// Test Code\n",
    "val circle = new Circle(5)\n",
    "val rectangle = new Rectangle(4, 7)\n",
    "println(f\"Circle area: ${circle.area}%.2f\")\n",
    "println(f\"Rectangle area: ${rectangle.area}%.2f\")\n"
   ]
  },
  {
   "cell_type": "markdown",
   "id": "79b9a91e-52b0-4141-a52d-051582e1ad21",
   "metadata": {},
   "source": [
    "#### Companion Object"
   ]
  },
  {
   "cell_type": "code",
   "execution_count": 12,
   "id": "033c9b84-82af-4cf9-9922-deceb39ceac2",
   "metadata": {},
   "outputs": [
    {
     "name": "stdout",
     "output_type": "stream",
     "text": [
      "Username: john_doe, Email: john@example.com\n"
     ]
    },
    {
     "data": {
      "text/plain": [
       "defined class User\n",
       "defined object User\n",
       "user1 = User@6e532ced\n"
      ]
     },
     "metadata": {},
     "output_type": "display_data",
     "source": "user"
    },
    {
     "data": {
      "text/plain": [
       "User@6e532ced"
      ]
     },
     "execution_count": 12,
     "metadata": {},
     "output_type": "execute_result"
    }
   ],
   "source": [
    "class User(val username: String, val email: String)\n",
    "\n",
    "// Companion object\n",
    "object User {\n",
    "  def apply(username: String, email: String): User = new User(username, email)\n",
    "  def printDetails(user: User): Unit = {\n",
    "    println(s\"Username: ${user.username}, Email: ${user.email}\")\n",
    "  }\n",
    "}\n",
    "\n",
    "// Test Code\n",
    "val user1 = User(\"john_doe\", \"john@example.com\") // Uses the apply method\n",
    "User.printDetails(user1)\n"
   ]
  },
  {
   "cell_type": "code",
   "execution_count": null,
   "id": "d4d6c8f6-84f6-40e1-9689-14ea3545564b",
   "metadata": {},
   "outputs": [],
   "source": []
  }
 ],
 "metadata": {
  "kernelspec": {
   "display_name": "Apache Toree - Scala",
   "language": "scala",
   "name": "apache_toree_scala"
  },
  "language_info": {
   "codemirror_mode": "text/x-scala",
   "file_extension": ".scala",
   "mimetype": "text/x-scala",
   "name": "scala",
   "pygments_lexer": "scala",
   "version": "2.12.15"
  }
 },
 "nbformat": 4,
 "nbformat_minor": 5
}
