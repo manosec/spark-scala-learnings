{
 "cells": [
  {
   "cell_type": "code",
   "execution_count": 9,
   "id": "24e07ae1-fb3e-4dac-b15f-20a62a49a534",
   "metadata": {},
   "outputs": [],
   "source": [
    "import scala.io.Source\n",
    "import java.io.FileNotFoundException\n",
    "import scala.util.Try"
   ]
  },
  {
   "cell_type": "code",
   "execution_count": 14,
   "id": "a721e744-e16d-49ee-a7b2-71bed9ff8037",
   "metadata": {},
   "outputs": [
    {
     "data": {
      "text/plain": [
       "filePath = employee.csv\n"
      ]
     },
     "metadata": {},
     "output_type": "display_data",
     "source": "user"
    },
    {
     "data": {
      "text/plain": [
       "employee.csv"
      ]
     },
     "execution_count": 14,
     "metadata": {},
     "output_type": "execute_result"
    }
   ],
   "source": [
    "val filePath = \"employee.csv\""
   ]
  },
  {
   "cell_type": "markdown",
   "id": "20cf1e7f-35fa-4969-8cc5-4c72dc994bae",
   "metadata": {},
   "source": [
    "#### Create a case class to represent the entity"
   ]
  },
  {
   "cell_type": "code",
   "execution_count": 7,
   "id": "014a8715-d40d-417e-b2a3-56561f538c6a",
   "metadata": {},
   "outputs": [
    {
     "data": {
      "text/plain": [
       "defined class Employee\n"
      ]
     },
     "metadata": {},
     "output_type": "display_data",
     "source": "user"
    }
   ],
   "source": [
    "case class Employee(id:Int, name: String, city: String, salary:Double, department: String)"
   ]
  },
  {
   "cell_type": "markdown",
   "id": "d7a55da1-8ea3-4f61-aa91-c72c30274c61",
   "metadata": {},
   "source": [
    "#### Read the CSV file and parse the data into a list of Employees"
   ]
  },
  {
   "cell_type": "code",
   "execution_count": 12,
   "id": "6e1414ac-79f9-4cc7-9c22-4357b847b709",
   "metadata": {},
   "outputs": [
    {
     "data": {
      "text/plain": [
       "readFile: (filePath: String)List[Employee]\n"
      ]
     },
     "metadata": {},
     "output_type": "display_data",
     "source": "user"
    }
   ],
   "source": [
    "def readFile(filePath: String) : List[Employee] = {\n",
    "\n",
    "    val lines = Source.fromFile(filePath).getLines.drop(1)\n",
    "    lines.flatMap {records => \n",
    "        val columns = records.split(\",\")\n",
    "        Try{\n",
    "            Employee(\n",
    "                id = columns(0).toInt,\n",
    "                name = columns(1),\n",
    "                city = columns(2),\n",
    "                salary = columns(3).toDouble,\n",
    "                department = columns(4)\n",
    "            )\n",
    "        }.toOption\n",
    "    }.toList\n",
    "}"
   ]
  },
  {
   "cell_type": "code",
   "execution_count": 17,
   "id": "c0f83c8a-8f81-43e8-9c50-d6964ce8f6db",
   "metadata": {},
   "outputs": [
    {
     "data": {
      "text/plain": [
       "employees = List(Employee(1,John Doe,New York,60000.0,Marketing), Employee(2,Jane Smith,Los Angeles,55000.0,Finance), Employee(3,Michael Johnson,Chicago,62000.0,HR), Employee(4,Sarah Lee,San Francisco,58000.0,Engineering), Employee(5,David Brown,Houston,63000.0,Operations), Employee(6,Emily Taylor,Miami,54000.0,Sales), Employee(7,James Wilson,Dallas,59000.0,Marketing), Employee(8,Emma Anderson,Seattle,61000.0,Finance), Employee(9,Matthew Martinez,Boston,57000.0,HR), Employee(10,Olivia Thomas,Atlanta,64000.0,Engineering), Employee(11,Liam Garcia,Denver,53000.0,Operations), Employee(12,Sophia Hernandez,Phoenix,60000.0,Sales), Employee(13,Alexander Lopez,Philadelphia,56000.0,Marketing), Employee(14,Mia Gonzalez,Detroit,62000.0,Finance), Employee(15,Ethan Perez,Minneapolis,5...\n"
      ]
     },
     "metadata": {},
     "output_type": "display_data",
     "source": "user"
    },
    {
     "data": {
      "text/plain": [
       "List(Employee(1,John Doe,New York,60000.0,Marketing), Employee(2,Jane Smith,Los Angeles,55000.0,Finance), Employee(3,Michael Johnson,Chicago,62000.0,HR), Employee(4,Sarah Lee,San Francisco,58000.0,Engineering), Employee(5,David Brown,Houston,63000.0,Operations), Employee(6,Emily Taylor,Miami,54000.0,Sales), Employee(7,James Wilson,Dallas,59000.0,Marketing), Employee(8,Emma Anderson,Seattle,61000.0,Finance), Employee(9,Matthew Martinez,Boston,57000.0,HR), Employee(10,Olivia Thomas,Atlanta,64000.0,Engineering), Employee(11,Liam Garcia,Denver,53000.0,Operations), Employee(12,Sophia Hernandez,Phoenix,60000.0,Sales), Employee(13,Alexander Lopez,Philadelphia,56000.0,Marketing), Employee(14,Mia Gonzalez,Detroit,62000.0,Finance), Employee(15,Ethan Perez,Minneapolis,5..."
      ]
     },
     "execution_count": 17,
     "metadata": {},
     "output_type": "execute_result"
    }
   ],
   "source": [
    "val employees: List[Employee] = readFile(filePath)"
   ]
  },
  {
   "cell_type": "markdown",
   "id": "7503c43d-6385-4ea1-b77b-5cd7a6cbeeca",
   "metadata": {},
   "source": [
    "#### Perform filter operations"
   ]
  },
  {
   "cell_type": "code",
   "execution_count": 22,
   "id": "c12b5b55-0808-4365-8fb4-eed1ca79c493",
   "metadata": {},
   "outputs": [
    {
     "data": {
      "text/plain": [
       "highSalaryEmployees = List(Employee(3,Michael Johnson,Chicago,62000.0,HR), Employee(5,David Brown,Houston,63000.0,Operations), Employee(8,Emma Anderson,Seattle,61000.0,Finance), Employee(10,Olivia Thomas,Atlanta,64000.0,Engineering), Employee(14,Mia Gonzalez,Detroit,62000.0,Finance), Employee(16,Isabella Carter,Portland,63000.0,Engineering), Employee(18,Ava Ramirez,San Diego,64000.0,Sales), Employee(20,Harper King,Birmingham,61000.0,Finance), Employee(24,Lincoln Taylor,Indianapolis,62000.0,Sales), Employee(26,Aiden Bennett,Jacksonville,63000.0,Finance), Employee(28,Ella Collins,San Jose,65000.0,Engineering), Employee(30,Carter Hughes,Oklahoma City,61000.0,Sales), Employee(34,Nova Ward,Kansas City,64000.0,Engineering), Employee(36,Leah Watson,Atlanta,62000.0,Sales), Emplo...\n"
      ]
     },
     "metadata": {},
     "output_type": "display_data",
     "source": "user"
    },
    {
     "data": {
      "text/plain": [
       "List(Employee(3,Michael Johnson,Chicago,62000.0,HR), Employee(5,David Brown,Houston,63000.0,Operations), Employee(8,Emma Anderson,Seattle,61000.0,Finance), Employee(10,Olivia Thomas,Atlanta,64000.0,Engineering), Employee(14,Mia Gonzalez,Detroit,62000.0,Finance), Employee(16,Isabella Carter,Portland,63000.0,Engineering), Employee(18,Ava Ramirez,San Diego,64000.0,Sales), Employee(20,Harper King,Birmingham,61000.0,Finance), Employee(24,Lincoln Taylor,Indianapolis,62000.0,Sales), Employee(26,Aiden Bennett,Jacksonville,63000.0,Finance), Employee(28,Ella Collins,San Jose,65000.0,Engineering), Employee(30,Carter Hughes,Oklahoma City,61000.0,Sales), Employee(34,Nova Ward,Kansas City,64000.0,Engineering), Employee(36,Leah Watson,Atlanta,62000.0,Sales), Emplo..."
      ]
     },
     "execution_count": 22,
     "metadata": {},
     "output_type": "execute_result"
    }
   ],
   "source": [
    "val highSalaryEmployees = employees.filter(_.salary > 60000)\n",
    "val engineeringEmployees = employees.filter(_.department == \"Engineering\")"
   ]
  },
  {
   "cell_type": "markdown",
   "id": "ab02ad6f-c2e6-437a-8eac-59b668c9684a",
   "metadata": {},
   "source": [
    "#### Map Operation"
   ]
  },
  {
   "cell_type": "code",
   "execution_count": 23,
   "id": "4ac9e8c6-c5f4-4ee3-a5b4-5896deae445d",
   "metadata": {},
   "outputs": [
    {
     "name": "stdout",
     "output_type": "stream",
     "text": [
      "Formatted Report:\n",
      "John Doe (New York) works in Marketing earning ${emp.salary}\n",
      "Jane Smith (Los Angeles) works in Finance earning ${emp.salary}\n",
      "Michael Johnson (Chicago) works in HR earning ${emp.salary}\n",
      "Sarah Lee (San Francisco) works in Engineering earning ${emp.salary}\n",
      "David Brown (Houston) works in Operations earning ${emp.salary}\n",
      "Emily Taylor (Miami) works in Sales earning ${emp.salary}\n",
      "James Wilson (Dallas) works in Marketing earning ${emp.salary}\n",
      "Emma Anderson (Seattle) works in Finance earning ${emp.salary}\n",
      "Matthew Martinez (Boston) works in HR earning ${emp.salary}\n",
      "Olivia Thomas (Atlanta) works in Engineering earning ${emp.salary}\n",
      "Liam Garcia (Denver) works in Operations earning ${emp.salary}\n",
      "Sophia Hernandez (Phoenix) works in Sales earning ${emp.salary}\n",
      "Alexander Lopez (Philadelphia) works in Marketing earning ${emp.salary}\n",
      "Mia Gonzalez (Detroit) works in Finance earning ${emp.salary}\n",
      "Ethan Perez (Minneapolis) works in HR earning ${emp.salary}\n",
      "Isabella Carter (Portland) works in Engineering earning ${emp.salary}\n",
      "Mason Torres (Baltimore) works in Operations earning ${emp.salary}\n",
      "Ava Ramirez (San Diego) works in Sales earning ${emp.salary}\n",
      "Logan Sanders (Washington) works in Marketing earning ${emp.salary}\n",
      "Harper King (Birmingham) works in Finance earning ${emp.salary}\n",
      "Lucas Rivera (Memphis) works in HR earning ${emp.salary}\n",
      "Evelyn Scott (Nashville) works in Engineering earning ${emp.salary}\n",
      "Avery Green (Milwaukee) works in Operations earning ${emp.salary}\n",
      "Lincoln Taylor (Indianapolis) works in Sales earning ${emp.salary}\n",
      "Sofia Cooper (Louisville) works in Marketing earning ${emp.salary}\n",
      "Aiden Bennett (Jacksonville) works in Finance earning ${emp.salary}\n",
      "Madison Flores (Charlotte) works in HR earning ${emp.salary}\n",
      "Ella Collins (San Jose) works in Engineering earning ${emp.salary}\n",
      "Chloe Howard (San Antonio) works in Operations earning ${emp.salary}\n",
      "Carter Hughes (Oklahoma City) works in Sales earning ${emp.salary}\n",
      "Aria Nelson (Tucson) works in Marketing earning ${emp.salary}\n",
      "Grayson Baker (Cleveland) works in Finance earning ${emp.salary}\n",
      "Zoey Morris (Mesa) works in HR earning ${emp.salary}\n",
      "Nova Ward (Kansas City) works in Engineering earning ${emp.salary}\n",
      "Hudson James (Virginia Beach) works in Operations earning ${emp.salary}\n",
      "Leah Watson (Atlanta) works in Sales earning ${emp.salary}\n",
      "Riley Brooks (Colorado Springs) works in Marketing earning ${emp.salary}\n",
      "Emery Kelly (Raleigh) works in Finance earning ${emp.salary}\n",
      "Luke Reed (Omaha) works in HR earning ${emp.salary}\n",
      "Layla Cooper (Miami) works in Engineering earning ${emp.salary}\n",
      "Ayden Rivera (Tulsa) works in Operations earning ${emp.salary}\n",
      "Penelope Coleman (Oakland) works in Sales earning ${emp.salary}\n",
      "Lincoln Powell (Minneapolis) works in Marketing earning ${emp.salary}\n",
      "Aubrey Long (Arlington) works in Finance earning ${emp.salary}\n",
      "Grace Hughes (Bakersfield) works in HR earning ${emp.salary}\n",
      "Nolan Ward (Tampa) works in Engineering earning ${emp.salary}\n",
      "Bella Barnes (Honolulu) works in Operations earning ${emp.salary}\n",
      "Ellie Howard (Anaheim) works in Sales earning ${emp.salary}\n",
      "Liam Wright (Pittsburgh) works in Marketing earning ${emp.salary}\n",
      "Emma Evans (Cincinnati) works in Finance earning ${emp.salary}\n"
     ]
    },
    {
     "data": {
      "text/plain": [
       "formattedReport = List(John Doe (New York) works in Marketing earning ${emp.salary}, Jane Smith (Los Angeles) works in Finance earning ${emp.salary}, Michael Johnson (Chicago) works in HR earning ${emp.salary}, Sarah Lee (San Francisco) works in Engineering earning ${emp.salary}, David Brown (Houston) works in Operations earning ${emp.salary}, Emily Taylor (Miami) works in Sales earning ${emp.salary}, James Wilson (Dallas) works in Marketing earning ${emp.salary}, Emma Anderson (Seattle) works in Finance earning ${emp.salary}, Matthew Martinez (Boston) works in HR earning ${emp.salary}, Olivia Thomas (Atlanta) works in Engineering earning ${emp.salary}, Liam Garcia (Denver) works in Operations earning ${emp.salary}, Sophia Hernandez (Phoenix) works in Sales earning ${emp.s...\n"
      ]
     },
     "metadata": {},
     "output_type": "display_data",
     "source": "user"
    },
    {
     "data": {
      "text/plain": [
       "List(John Doe (New York) works in Marketing earning ${emp.salary}, Jane Smith (Los Angeles) works in Finance earning ${emp.salary}, Michael Johnson (Chicago) works in HR earning ${emp.salary}, Sarah Lee (San Francisco) works in Engineering earning ${emp.salary}, David Brown (Houston) works in Operations earning ${emp.salary}, Emily Taylor (Miami) works in Sales earning ${emp.salary}, James Wilson (Dallas) works in Marketing earning ${emp.salary}, Emma Anderson (Seattle) works in Finance earning ${emp.salary}, Matthew Martinez (Boston) works in HR earning ${emp.salary}, Olivia Thomas (Atlanta) works in Engineering earning ${emp.salary}, Liam Garcia (Denver) works in Operations earning ${emp.salary}, Sophia Hernandez (Phoenix) works in Sales earning ${emp.s..."
      ]
     },
     "execution_count": 23,
     "metadata": {},
     "output_type": "execute_result"
    }
   ],
   "source": [
    "val formattedReport = employees.map(emp => \n",
    "    s\"${emp.name} (${emp.city}) works in ${emp.department} earning $${emp.salary}\"\n",
    "  )\n",
    "\n",
    "println(\"Formatted Report:\")\n",
    "formattedReport.foreach(println)"
   ]
  },
  {
   "cell_type": "markdown",
   "id": "e7ca6d84-b2e9-417e-b686-e57410fc30ef",
   "metadata": {},
   "source": [
    "#### Reduce Operations"
   ]
  },
  {
   "cell_type": "code",
   "execution_count": 26,
   "id": "fa7c6d16-d09f-4412-abe5-ffb40924f17e",
   "metadata": {},
   "outputs": [
    {
     "name": "stdout",
     "output_type": "stream",
     "text": [
      "\n",
      "Total Salary of all employees: $2943000.0\n",
      "Average Salary of all employees: $58860.0\n",
      "\n",
      "Department-wise Statistics:\n",
      "Department: Engineering, Total Salary: $494000.0, Average Salary: $61750.0, Employees: 8\n",
      "Department: Operations, Total Salary: $444000.0, Average Salary: $55500.0, Employees: 8\n",
      "Department: Sales, Total Salary: $483000.0, Average Salary: $60375.0, Employees: 8\n",
      "Department: Marketing, Total Salary: $518000.0, Average Salary: $57555.555555555555, Employees: 9\n",
      "Department: HR, Total Salary: $462000.0, Average Salary: $57750.0, Employees: 8\n",
      "Department: Finance, Total Salary: $542000.0, Average Salary: $60222.22222222222, Employees: 9\n"
     ]
    },
    {
     "data": {
      "text/plain": [
       "totalSalary = 2943000.0\n",
       "averageSalary = 58860.0\n",
       "departmentWiseStats = List((Engineering,494000.0,61750.0,8), (Operations,444000.0,55500.0,8), (Sales,483000.0,60375.0,8), (Marketing,518000.0,57555.555555555555,9), (HR,462000.0,57750.0,8), (Finance,542000.0,60222.22222222222,9))\n"
      ]
     },
     "metadata": {},
     "output_type": "display_data",
     "source": "user"
    },
    {
     "data": {
      "text/plain": [
       "List((Engineering,494000.0,61750.0,8), (Operations,444000.0,55500.0,8), (Sales,483000.0,60375.0,8), (Marketing,518000.0,57555.555555555555,9), (HR,462000.0,57750.0,8), (Finance,542000.0,60222.22222222222,9))"
      ]
     },
     "execution_count": 26,
     "metadata": {},
     "output_type": "execute_result"
    }
   ],
   "source": [
    "val totalSalary = employees.map(_.salary).sum\n",
    "  val averageSalary = if (employees.nonEmpty) totalSalary / employees.size else 0.0\n",
    "  val departmentWiseStats = employees.groupBy(_.department).map {\n",
    "    case (department, deptEmployees) =>\n",
    "      val deptTotalSalary = deptEmployees.map(_.salary).sum\n",
    "      val deptAverageSalary = if (deptEmployees.nonEmpty) deptTotalSalary / deptEmployees.size else 0.0\n",
    "      val deptEmployeeCount = deptEmployees.size\n",
    "      (department, deptTotalSalary, deptAverageSalary, deptEmployeeCount)\n",
    "  }\n",
    "\n",
    "  println(s\"\\nTotal Salary of all employees: $$${totalSalary}\")\n",
    "  println(s\"Average Salary of all employees: $$${averageSalary}\")\n",
    "\n",
    "  println(\"\\nDepartment-wise Statistics:\")\n",
    "  departmentWiseStats.foreach { case (dept, total, avg, count) =>\n",
    "    println(s\"Department: $dept, Total Salary: $$${total}, Average Salary: $$${avg}, Employees: $count\")\n",
    "  }"
   ]
  },
  {
   "cell_type": "code",
   "execution_count": null,
   "id": "15942f58-6aa9-4af0-a4c4-48fdf339c43f",
   "metadata": {},
   "outputs": [],
   "source": []
  }
 ],
 "metadata": {
  "kernelspec": {
   "display_name": "Apache Toree - Scala",
   "language": "scala",
   "name": "apache_toree_scala"
  },
  "language_info": {
   "codemirror_mode": "text/x-scala",
   "file_extension": ".scala",
   "mimetype": "text/x-scala",
   "name": "scala",
   "pygments_lexer": "scala",
   "version": "2.12.15"
  }
 },
 "nbformat": 4,
 "nbformat_minor": 5
}
